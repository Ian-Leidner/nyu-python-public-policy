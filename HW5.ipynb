{
  "nbformat": 4,
  "nbformat_minor": 0,
  "metadata": {
    "colab": {
      "name": "HW5.ipynb",
      "provenance": [],
      "include_colab_link": true
    },
    "kernelspec": {
      "name": "python3",
      "display_name": "Python 3"
    }
  },
  "cells": [
    {
      "cell_type": "markdown",
      "metadata": {
        "id": "view-in-github",
        "colab_type": "text"
      },
      "source": [
        "<a href=\"https://colab.research.google.com/github/Ian-Leidner/nyu-python-public-policy/blob/master/HW5.ipynb\" target=\"_parent\"><img src=\"https://colab.research.google.com/assets/colab-badge.svg\" alt=\"Open In Colab\"/></a>"
      ]
    },
    {
      "cell_type": "code",
      "metadata": {
        "id": "4vwAZfsjZsqe",
        "colab_type": "code",
        "colab": {}
      },
      "source": [
        "import pandas as pd\n",
        "from google.colab import drive\n",
        "import matplotlib.pyplot as plt \n",
        "import numpy as np\n",
        "import statsmodels.api as sm\n",
        "from google.colab import drive\n",
        "\n",
        "pd.set_option('display.max_columns', None)\n",
        "pd.set_option('display.max_rows', None)"
      ],
      "execution_count": 0,
      "outputs": []
    },
    {
      "cell_type": "code",
      "metadata": {
        "id": "i0dPO0J6Z1YL",
        "colab_type": "code",
        "outputId": "65afe7e4-d5d7-47c1-a09c-7cbfd69d083f",
        "colab": {
          "base_uri": "https://localhost:8080/",
          "height": 122
        }
      },
      "source": [
        "drive.mount('/content/drive')\n"
      ],
      "execution_count": 3,
      "outputs": [
        {
          "output_type": "stream",
          "text": [
            "Go to this URL in a browser: https://accounts.google.com/o/oauth2/auth?client_id=947318989803-6bn6qk8qdgf4n4g3pfee6491hc0brc4i.apps.googleusercontent.com&redirect_uri=urn%3aietf%3awg%3aoauth%3a2.0%3aoob&response_type=code&scope=email%20https%3a%2f%2fwww.googleapis.com%2fauth%2fdocs.test%20https%3a%2f%2fwww.googleapis.com%2fauth%2fdrive%20https%3a%2f%2fwww.googleapis.com%2fauth%2fdrive.photos.readonly%20https%3a%2f%2fwww.googleapis.com%2fauth%2fpeopleapi.readonly\n",
            "\n",
            "Enter your authorization code:\n",
            "··········\n",
            "Mounted at /content/drive\n"
          ],
          "name": "stdout"
        }
      ]
    },
    {
      "cell_type": "code",
      "metadata": {
        "id": "HpbPejkFslEo",
        "colab_type": "code",
        "colab": {}
      },
      "source": [
        "#Step 1. Load the datasets"
      ],
      "execution_count": 0,
      "outputs": []
    },
    {
      "cell_type": "code",
      "metadata": {
        "id": "RGh8NNAXaKPF",
        "colab_type": "code",
        "outputId": "361ba77b-c80d-4aaa-d542-23f833466131",
        "colab": {
          "base_uri": "https://localhost:8080/",
          "height": 71
        }
      },
      "source": [
        "df = pd.read_csv('/content/drive/My Drive/Data for Python/cleaned_311_data_revised.csv', header='infer')"
      ],
      "execution_count": 5,
      "outputs": [
        {
          "output_type": "stream",
          "text": [
            "/usr/local/lib/python3.6/dist-packages/IPython/core/interactiveshell.py:2718: DtypeWarning: Columns (10,19,20,22,33,36,37,38,39) have mixed types. Specify dtype option on import or set low_memory=False.\n",
            "  interactivity=interactivity, compiler=compiler, result=result)\n"
          ],
          "name": "stderr"
        }
      ]
    },
    {
      "cell_type": "code",
      "metadata": {
        "id": "enSa-HEgasVs",
        "colab_type": "code",
        "colab": {}
      },
      "source": [
        "hs1 = pd.read_csv('https://data.cityofnewyork.us/api/views/3qem-6v3v/rows.csv?accessType=DOWNLOAD', header='infer')"
      ],
      "execution_count": 0,
      "outputs": []
    },
    {
      "cell_type": "code",
      "metadata": {
        "id": "gqq-C9tKa5al",
        "colab_type": "code",
        "outputId": "8d333497-a940-414f-dd7d-fa8b7f51bed6",
        "colab": {
          "base_uri": "https://localhost:8080/",
          "height": 221
        }
      },
      "source": [
        "hs1.head()"
      ],
      "execution_count": 7,
      "outputs": [
        {
          "output_type": "execute_result",
          "data": {
            "text/html": [
              "<div>\n",
              "<style scoped>\n",
              "    .dataframe tbody tr th:only-of-type {\n",
              "        vertical-align: middle;\n",
              "    }\n",
              "\n",
              "    .dataframe tbody tr th {\n",
              "        vertical-align: top;\n",
              "    }\n",
              "\n",
              "    .dataframe thead th {\n",
              "        text-align: right;\n",
              "    }\n",
              "</style>\n",
              "<table border=\"1\" class=\"dataframe\">\n",
              "  <thead>\n",
              "    <tr style=\"text-align: right;\">\n",
              "      <th></th>\n",
              "      <th>Report Date</th>\n",
              "      <th>Borough</th>\n",
              "      <th>Community District</th>\n",
              "      <th>Adult Family Comm Hotel</th>\n",
              "      <th>Adult Family Shelter</th>\n",
              "      <th>Adult Shelter</th>\n",
              "      <th>Adult Shelter Comm Hotel</th>\n",
              "      <th>FWC Cluster</th>\n",
              "      <th>FWC Comm Hotel</th>\n",
              "      <th>FWC Shelter</th>\n",
              "    </tr>\n",
              "  </thead>\n",
              "  <tbody>\n",
              "    <tr>\n",
              "      <th>0</th>\n",
              "      <td>07/31/2018</td>\n",
              "      <td>Bronx</td>\n",
              "      <td>201</td>\n",
              "      <td>NaN</td>\n",
              "      <td>1.0</td>\n",
              "      <td>2.0</td>\n",
              "      <td>NaN</td>\n",
              "      <td>4.0</td>\n",
              "      <td>1.0</td>\n",
              "      <td>7.0</td>\n",
              "    </tr>\n",
              "    <tr>\n",
              "      <th>1</th>\n",
              "      <td>07/31/2018</td>\n",
              "      <td>Bronx</td>\n",
              "      <td>202</td>\n",
              "      <td>NaN</td>\n",
              "      <td>1.0</td>\n",
              "      <td>NaN</td>\n",
              "      <td>NaN</td>\n",
              "      <td>3.0</td>\n",
              "      <td>NaN</td>\n",
              "      <td>6.0</td>\n",
              "    </tr>\n",
              "    <tr>\n",
              "      <th>2</th>\n",
              "      <td>07/31/2018</td>\n",
              "      <td>Bronx</td>\n",
              "      <td>203</td>\n",
              "      <td>NaN</td>\n",
              "      <td>2.0</td>\n",
              "      <td>5.0</td>\n",
              "      <td>NaN</td>\n",
              "      <td>5.0</td>\n",
              "      <td>2.0</td>\n",
              "      <td>9.0</td>\n",
              "    </tr>\n",
              "    <tr>\n",
              "      <th>3</th>\n",
              "      <td>07/31/2018</td>\n",
              "      <td>Bronx</td>\n",
              "      <td>204</td>\n",
              "      <td>NaN</td>\n",
              "      <td>NaN</td>\n",
              "      <td>2.0</td>\n",
              "      <td>NaN</td>\n",
              "      <td>18.0</td>\n",
              "      <td>NaN</td>\n",
              "      <td>14.0</td>\n",
              "    </tr>\n",
              "    <tr>\n",
              "      <th>4</th>\n",
              "      <td>07/31/2018</td>\n",
              "      <td>Bronx</td>\n",
              "      <td>205</td>\n",
              "      <td>NaN</td>\n",
              "      <td>2.0</td>\n",
              "      <td>3.0</td>\n",
              "      <td>NaN</td>\n",
              "      <td>12.0</td>\n",
              "      <td>NaN</td>\n",
              "      <td>5.0</td>\n",
              "    </tr>\n",
              "  </tbody>\n",
              "</table>\n",
              "</div>"
            ],
            "text/plain": [
              "  Report Date Borough  Community District  Adult Family Comm Hotel  \\\n",
              "0  07/31/2018   Bronx                 201                      NaN   \n",
              "1  07/31/2018   Bronx                 202                      NaN   \n",
              "2  07/31/2018   Bronx                 203                      NaN   \n",
              "3  07/31/2018   Bronx                 204                      NaN   \n",
              "4  07/31/2018   Bronx                 205                      NaN   \n",
              "\n",
              "   Adult Family Shelter  Adult Shelter  Adult Shelter Comm Hotel  FWC Cluster  \\\n",
              "0                   1.0            2.0                       NaN          4.0   \n",
              "1                   1.0            NaN                       NaN          3.0   \n",
              "2                   2.0            5.0                       NaN          5.0   \n",
              "3                   NaN            2.0                       NaN         18.0   \n",
              "4                   2.0            3.0                       NaN         12.0   \n",
              "\n",
              "   FWC Comm Hotel  FWC Shelter  \n",
              "0             1.0          7.0  \n",
              "1             NaN          6.0  \n",
              "2             2.0          9.0  \n",
              "3             NaN         14.0  \n",
              "4             NaN          5.0  "
            ]
          },
          "metadata": {
            "tags": []
          },
          "execution_count": 7
        }
      ]
    },
    {
      "cell_type": "code",
      "metadata": {
        "id": "AW-AWj19cQ8F",
        "colab_type": "code",
        "colab": {}
      },
      "source": [
        "hs1.columns=['report_date', 'boro', 'community_district', 'adult_fam_comm_hotel', 'adult_family_shelter', 'adult_shelter', 'adult_shelter_comm_hotel', 'fwc_cluster', 'fwc_comm_hotel', 'fwc_shelter']"
      ],
      "execution_count": 0,
      "outputs": []
    },
    {
      "cell_type": "code",
      "metadata": {
        "id": "AoEGJ6Obg0Ao",
        "colab_type": "code",
        "colab": {}
      },
      "source": [
        "#Step 2. Filter the shelter count dataframe to only keep rows where the value in the 'Report Date' column is '09/30/2019'"
      ],
      "execution_count": 0,
      "outputs": []
    },
    {
      "cell_type": "code",
      "metadata": {
        "id": "a4-OmZGZa7Vi",
        "colab_type": "code",
        "colab": {}
      },
      "source": [
        "hsdate = hs1[hs1.report_date == '09/30/2019']"
      ],
      "execution_count": 0,
      "outputs": []
    },
    {
      "cell_type": "code",
      "metadata": {
        "id": "0y1Jr33Jc_pY",
        "colab_type": "code",
        "outputId": "72099d5b-749c-41d9-d495-3e0c86585d3a",
        "colab": {
          "base_uri": "https://localhost:8080/",
          "height": 224
        }
      },
      "source": [
        "hsdate.head()"
      ],
      "execution_count": 11,
      "outputs": [
        {
          "output_type": "execute_result",
          "data": {
            "text/html": [
              "<div>\n",
              "<style scoped>\n",
              "    .dataframe tbody tr th:only-of-type {\n",
              "        vertical-align: middle;\n",
              "    }\n",
              "\n",
              "    .dataframe tbody tr th {\n",
              "        vertical-align: top;\n",
              "    }\n",
              "\n",
              "    .dataframe thead th {\n",
              "        text-align: right;\n",
              "    }\n",
              "</style>\n",
              "<table border=\"1\" class=\"dataframe\">\n",
              "  <thead>\n",
              "    <tr style=\"text-align: right;\">\n",
              "      <th></th>\n",
              "      <th>report_date</th>\n",
              "      <th>boro</th>\n",
              "      <th>community_district</th>\n",
              "      <th>adult_fam_comm_hotel</th>\n",
              "      <th>adult_family_shelter</th>\n",
              "      <th>adult_shelter</th>\n",
              "      <th>adult_shelter_comm_hotel</th>\n",
              "      <th>fwc_cluster</th>\n",
              "      <th>fwc_comm_hotel</th>\n",
              "      <th>fwc_shelter</th>\n",
              "    </tr>\n",
              "  </thead>\n",
              "  <tbody>\n",
              "    <tr>\n",
              "      <th>624</th>\n",
              "      <td>09/30/2019</td>\n",
              "      <td>Bronx</td>\n",
              "      <td>201</td>\n",
              "      <td>NaN</td>\n",
              "      <td>1.0</td>\n",
              "      <td>2.0</td>\n",
              "      <td>NaN</td>\n",
              "      <td>4.0</td>\n",
              "      <td>1.0</td>\n",
              "      <td>7.0</td>\n",
              "    </tr>\n",
              "    <tr>\n",
              "      <th>625</th>\n",
              "      <td>09/30/2019</td>\n",
              "      <td>Bronx</td>\n",
              "      <td>202</td>\n",
              "      <td>NaN</td>\n",
              "      <td>1.0</td>\n",
              "      <td>NaN</td>\n",
              "      <td>NaN</td>\n",
              "      <td>2.0</td>\n",
              "      <td>NaN</td>\n",
              "      <td>5.0</td>\n",
              "    </tr>\n",
              "    <tr>\n",
              "      <th>626</th>\n",
              "      <td>09/30/2019</td>\n",
              "      <td>Bronx</td>\n",
              "      <td>203</td>\n",
              "      <td>NaN</td>\n",
              "      <td>3.0</td>\n",
              "      <td>6.0</td>\n",
              "      <td>NaN</td>\n",
              "      <td>3.0</td>\n",
              "      <td>2.0</td>\n",
              "      <td>9.0</td>\n",
              "    </tr>\n",
              "    <tr>\n",
              "      <th>627</th>\n",
              "      <td>09/30/2019</td>\n",
              "      <td>Bronx</td>\n",
              "      <td>204</td>\n",
              "      <td>NaN</td>\n",
              "      <td>NaN</td>\n",
              "      <td>2.0</td>\n",
              "      <td>1.0</td>\n",
              "      <td>14.0</td>\n",
              "      <td>NaN</td>\n",
              "      <td>15.0</td>\n",
              "    </tr>\n",
              "    <tr>\n",
              "      <th>628</th>\n",
              "      <td>09/30/2019</td>\n",
              "      <td>Bronx</td>\n",
              "      <td>205</td>\n",
              "      <td>NaN</td>\n",
              "      <td>1.0</td>\n",
              "      <td>3.0</td>\n",
              "      <td>NaN</td>\n",
              "      <td>12.0</td>\n",
              "      <td>NaN</td>\n",
              "      <td>5.0</td>\n",
              "    </tr>\n",
              "  </tbody>\n",
              "</table>\n",
              "</div>"
            ],
            "text/plain": [
              "    report_date   boro  community_district  adult_fam_comm_hotel  \\\n",
              "624  09/30/2019  Bronx                 201                   NaN   \n",
              "625  09/30/2019  Bronx                 202                   NaN   \n",
              "626  09/30/2019  Bronx                 203                   NaN   \n",
              "627  09/30/2019  Bronx                 204                   NaN   \n",
              "628  09/30/2019  Bronx                 205                   NaN   \n",
              "\n",
              "     adult_family_shelter  adult_shelter  adult_shelter_comm_hotel  \\\n",
              "624                   1.0            2.0                       NaN   \n",
              "625                   1.0            NaN                       NaN   \n",
              "626                   3.0            6.0                       NaN   \n",
              "627                   NaN            2.0                       1.0   \n",
              "628                   1.0            3.0                       NaN   \n",
              "\n",
              "     fwc_cluster  fwc_comm_hotel  fwc_shelter  \n",
              "624          4.0             1.0          7.0  \n",
              "625          2.0             NaN          5.0  \n",
              "626          3.0             2.0          9.0  \n",
              "627         14.0             NaN         15.0  \n",
              "628         12.0             NaN          5.0  "
            ]
          },
          "metadata": {
            "tags": []
          },
          "execution_count": 11
        }
      ]
    },
    {
      "cell_type": "code",
      "metadata": {
        "id": "AMqLuKKMycm7",
        "colab_type": "code",
        "colab": {}
      },
      "source": [
        "#Step 3. Create a new column in the shelter count dataframe that calculates the sum of all the individual count columns: 'Adult Family Comm Hotel', 'Adult Family Shelter', 'Adult Shelter', 'Adult Shelter Comm Hotel', 'FWC Cluster', 'FWC Comm Hotel', 'FWC Shelter'"
      ],
      "execution_count": 0,
      "outputs": []
    },
    {
      "cell_type": "code",
      "metadata": {
        "id": "oqTBS-jqyeD5",
        "colab_type": "code",
        "colab": {}
      },
      "source": [
        "hsdate = hs1.fillna(0)"
      ],
      "execution_count": 0,
      "outputs": []
    },
    {
      "cell_type": "code",
      "metadata": {
        "id": "iZPoiGaRzkUg",
        "colab_type": "code",
        "outputId": "000e0cd9-d176-4a21-ccb0-57766358f834",
        "colab": {
          "base_uri": "https://localhost:8080/",
          "height": 224
        }
      },
      "source": [
        "hsdate.head()"
      ],
      "execution_count": 14,
      "outputs": [
        {
          "output_type": "execute_result",
          "data": {
            "text/html": [
              "<div>\n",
              "<style scoped>\n",
              "    .dataframe tbody tr th:only-of-type {\n",
              "        vertical-align: middle;\n",
              "    }\n",
              "\n",
              "    .dataframe tbody tr th {\n",
              "        vertical-align: top;\n",
              "    }\n",
              "\n",
              "    .dataframe thead th {\n",
              "        text-align: right;\n",
              "    }\n",
              "</style>\n",
              "<table border=\"1\" class=\"dataframe\">\n",
              "  <thead>\n",
              "    <tr style=\"text-align: right;\">\n",
              "      <th></th>\n",
              "      <th>report_date</th>\n",
              "      <th>boro</th>\n",
              "      <th>community_district</th>\n",
              "      <th>adult_fam_comm_hotel</th>\n",
              "      <th>adult_family_shelter</th>\n",
              "      <th>adult_shelter</th>\n",
              "      <th>adult_shelter_comm_hotel</th>\n",
              "      <th>fwc_cluster</th>\n",
              "      <th>fwc_comm_hotel</th>\n",
              "      <th>fwc_shelter</th>\n",
              "    </tr>\n",
              "  </thead>\n",
              "  <tbody>\n",
              "    <tr>\n",
              "      <th>0</th>\n",
              "      <td>07/31/2018</td>\n",
              "      <td>Bronx</td>\n",
              "      <td>201</td>\n",
              "      <td>0.0</td>\n",
              "      <td>1.0</td>\n",
              "      <td>2.0</td>\n",
              "      <td>0.0</td>\n",
              "      <td>4.0</td>\n",
              "      <td>1.0</td>\n",
              "      <td>7.0</td>\n",
              "    </tr>\n",
              "    <tr>\n",
              "      <th>1</th>\n",
              "      <td>07/31/2018</td>\n",
              "      <td>Bronx</td>\n",
              "      <td>202</td>\n",
              "      <td>0.0</td>\n",
              "      <td>1.0</td>\n",
              "      <td>0.0</td>\n",
              "      <td>0.0</td>\n",
              "      <td>3.0</td>\n",
              "      <td>0.0</td>\n",
              "      <td>6.0</td>\n",
              "    </tr>\n",
              "    <tr>\n",
              "      <th>2</th>\n",
              "      <td>07/31/2018</td>\n",
              "      <td>Bronx</td>\n",
              "      <td>203</td>\n",
              "      <td>0.0</td>\n",
              "      <td>2.0</td>\n",
              "      <td>5.0</td>\n",
              "      <td>0.0</td>\n",
              "      <td>5.0</td>\n",
              "      <td>2.0</td>\n",
              "      <td>9.0</td>\n",
              "    </tr>\n",
              "    <tr>\n",
              "      <th>3</th>\n",
              "      <td>07/31/2018</td>\n",
              "      <td>Bronx</td>\n",
              "      <td>204</td>\n",
              "      <td>0.0</td>\n",
              "      <td>0.0</td>\n",
              "      <td>2.0</td>\n",
              "      <td>0.0</td>\n",
              "      <td>18.0</td>\n",
              "      <td>0.0</td>\n",
              "      <td>14.0</td>\n",
              "    </tr>\n",
              "    <tr>\n",
              "      <th>4</th>\n",
              "      <td>07/31/2018</td>\n",
              "      <td>Bronx</td>\n",
              "      <td>205</td>\n",
              "      <td>0.0</td>\n",
              "      <td>2.0</td>\n",
              "      <td>3.0</td>\n",
              "      <td>0.0</td>\n",
              "      <td>12.0</td>\n",
              "      <td>0.0</td>\n",
              "      <td>5.0</td>\n",
              "    </tr>\n",
              "  </tbody>\n",
              "</table>\n",
              "</div>"
            ],
            "text/plain": [
              "  report_date   boro  community_district  adult_fam_comm_hotel  \\\n",
              "0  07/31/2018  Bronx                 201                   0.0   \n",
              "1  07/31/2018  Bronx                 202                   0.0   \n",
              "2  07/31/2018  Bronx                 203                   0.0   \n",
              "3  07/31/2018  Bronx                 204                   0.0   \n",
              "4  07/31/2018  Bronx                 205                   0.0   \n",
              "\n",
              "   adult_family_shelter  adult_shelter  adult_shelter_comm_hotel  fwc_cluster  \\\n",
              "0                   1.0            2.0                       0.0          4.0   \n",
              "1                   1.0            0.0                       0.0          3.0   \n",
              "2                   2.0            5.0                       0.0          5.0   \n",
              "3                   0.0            2.0                       0.0         18.0   \n",
              "4                   2.0            3.0                       0.0         12.0   \n",
              "\n",
              "   fwc_comm_hotel  fwc_shelter  \n",
              "0             1.0          7.0  \n",
              "1             0.0          6.0  \n",
              "2             2.0          9.0  \n",
              "3             0.0         14.0  \n",
              "4             0.0          5.0  "
            ]
          },
          "metadata": {
            "tags": []
          },
          "execution_count": 14
        }
      ]
    },
    {
      "cell_type": "code",
      "metadata": {
        "id": "RI54jS6CiZu5",
        "colab_type": "code",
        "colab": {}
      },
      "source": [
        "hsdate['count1'] = hsdate[['adult_fam_comm_hotel','adult_family_shelter','adult_shelter','adult_shelter_comm_hotel','fwc_cluster','fwc_comm_hotel','fwc_shelter']].sum(axis=1)"
      ],
      "execution_count": 0,
      "outputs": []
    },
    {
      "cell_type": "code",
      "metadata": {
        "id": "OhBikedMnW-r",
        "colab_type": "code",
        "outputId": "12819fdc-b400-4db6-b4a1-d8f32f148a93",
        "colab": {
          "base_uri": "https://localhost:8080/",
          "height": 224
        }
      },
      "source": [
        "hsdate.head()"
      ],
      "execution_count": 16,
      "outputs": [
        {
          "output_type": "execute_result",
          "data": {
            "text/html": [
              "<div>\n",
              "<style scoped>\n",
              "    .dataframe tbody tr th:only-of-type {\n",
              "        vertical-align: middle;\n",
              "    }\n",
              "\n",
              "    .dataframe tbody tr th {\n",
              "        vertical-align: top;\n",
              "    }\n",
              "\n",
              "    .dataframe thead th {\n",
              "        text-align: right;\n",
              "    }\n",
              "</style>\n",
              "<table border=\"1\" class=\"dataframe\">\n",
              "  <thead>\n",
              "    <tr style=\"text-align: right;\">\n",
              "      <th></th>\n",
              "      <th>report_date</th>\n",
              "      <th>boro</th>\n",
              "      <th>community_district</th>\n",
              "      <th>adult_fam_comm_hotel</th>\n",
              "      <th>adult_family_shelter</th>\n",
              "      <th>adult_shelter</th>\n",
              "      <th>adult_shelter_comm_hotel</th>\n",
              "      <th>fwc_cluster</th>\n",
              "      <th>fwc_comm_hotel</th>\n",
              "      <th>fwc_shelter</th>\n",
              "      <th>count1</th>\n",
              "    </tr>\n",
              "  </thead>\n",
              "  <tbody>\n",
              "    <tr>\n",
              "      <th>0</th>\n",
              "      <td>07/31/2018</td>\n",
              "      <td>Bronx</td>\n",
              "      <td>201</td>\n",
              "      <td>0.0</td>\n",
              "      <td>1.0</td>\n",
              "      <td>2.0</td>\n",
              "      <td>0.0</td>\n",
              "      <td>4.0</td>\n",
              "      <td>1.0</td>\n",
              "      <td>7.0</td>\n",
              "      <td>15.0</td>\n",
              "    </tr>\n",
              "    <tr>\n",
              "      <th>1</th>\n",
              "      <td>07/31/2018</td>\n",
              "      <td>Bronx</td>\n",
              "      <td>202</td>\n",
              "      <td>0.0</td>\n",
              "      <td>1.0</td>\n",
              "      <td>0.0</td>\n",
              "      <td>0.0</td>\n",
              "      <td>3.0</td>\n",
              "      <td>0.0</td>\n",
              "      <td>6.0</td>\n",
              "      <td>10.0</td>\n",
              "    </tr>\n",
              "    <tr>\n",
              "      <th>2</th>\n",
              "      <td>07/31/2018</td>\n",
              "      <td>Bronx</td>\n",
              "      <td>203</td>\n",
              "      <td>0.0</td>\n",
              "      <td>2.0</td>\n",
              "      <td>5.0</td>\n",
              "      <td>0.0</td>\n",
              "      <td>5.0</td>\n",
              "      <td>2.0</td>\n",
              "      <td>9.0</td>\n",
              "      <td>23.0</td>\n",
              "    </tr>\n",
              "    <tr>\n",
              "      <th>3</th>\n",
              "      <td>07/31/2018</td>\n",
              "      <td>Bronx</td>\n",
              "      <td>204</td>\n",
              "      <td>0.0</td>\n",
              "      <td>0.0</td>\n",
              "      <td>2.0</td>\n",
              "      <td>0.0</td>\n",
              "      <td>18.0</td>\n",
              "      <td>0.0</td>\n",
              "      <td>14.0</td>\n",
              "      <td>34.0</td>\n",
              "    </tr>\n",
              "    <tr>\n",
              "      <th>4</th>\n",
              "      <td>07/31/2018</td>\n",
              "      <td>Bronx</td>\n",
              "      <td>205</td>\n",
              "      <td>0.0</td>\n",
              "      <td>2.0</td>\n",
              "      <td>3.0</td>\n",
              "      <td>0.0</td>\n",
              "      <td>12.0</td>\n",
              "      <td>0.0</td>\n",
              "      <td>5.0</td>\n",
              "      <td>22.0</td>\n",
              "    </tr>\n",
              "  </tbody>\n",
              "</table>\n",
              "</div>"
            ],
            "text/plain": [
              "  report_date   boro  community_district  adult_fam_comm_hotel  \\\n",
              "0  07/31/2018  Bronx                 201                   0.0   \n",
              "1  07/31/2018  Bronx                 202                   0.0   \n",
              "2  07/31/2018  Bronx                 203                   0.0   \n",
              "3  07/31/2018  Bronx                 204                   0.0   \n",
              "4  07/31/2018  Bronx                 205                   0.0   \n",
              "\n",
              "   adult_family_shelter  adult_shelter  adult_shelter_comm_hotel  fwc_cluster  \\\n",
              "0                   1.0            2.0                       0.0          4.0   \n",
              "1                   1.0            0.0                       0.0          3.0   \n",
              "2                   2.0            5.0                       0.0          5.0   \n",
              "3                   0.0            2.0                       0.0         18.0   \n",
              "4                   2.0            3.0                       0.0         12.0   \n",
              "\n",
              "   fwc_comm_hotel  fwc_shelter  count1  \n",
              "0             1.0          7.0    15.0  \n",
              "1             0.0          6.0    10.0  \n",
              "2             2.0          9.0    23.0  \n",
              "3             0.0         14.0    34.0  \n",
              "4             0.0          5.0    22.0  "
            ]
          },
          "metadata": {
            "tags": []
          },
          "execution_count": 16
        }
      ]
    },
    {
      "cell_type": "code",
      "metadata": {
        "id": "kbbml4oGdMMt",
        "colab_type": "code",
        "colab": {}
      },
      "source": [
        "#Step 4. From the 311 dataset, create a subset of all the 311 requests where complaint_type == 'Homeless Person Assistance'"
      ],
      "execution_count": 0,
      "outputs": []
    },
    {
      "cell_type": "code",
      "metadata": {
        "id": "i6R-f0HVfdQr",
        "colab_type": "code",
        "colab": {}
      },
      "source": [
        "homeless = df[df.complaint_type == 'Homeless Person Assistance']"
      ],
      "execution_count": 0,
      "outputs": []
    },
    {
      "cell_type": "code",
      "metadata": {
        "id": "_ANhTFopfq2X",
        "colab_type": "code",
        "outputId": "fbad5f74-eb53-41f6-eba5-7d8048f8499a",
        "colab": {
          "base_uri": "https://localhost:8080/",
          "height": 581
        }
      },
      "source": [
        "homeless.head()"
      ],
      "execution_count": 19,
      "outputs": [
        {
          "output_type": "execute_result",
          "data": {
            "text/html": [
              "<div>\n",
              "<style scoped>\n",
              "    .dataframe tbody tr th:only-of-type {\n",
              "        vertical-align: middle;\n",
              "    }\n",
              "\n",
              "    .dataframe tbody tr th {\n",
              "        vertical-align: top;\n",
              "    }\n",
              "\n",
              "    .dataframe thead th {\n",
              "        text-align: right;\n",
              "    }\n",
              "</style>\n",
              "<table border=\"1\" class=\"dataframe\">\n",
              "  <thead>\n",
              "    <tr style=\"text-align: right;\">\n",
              "      <th></th>\n",
              "      <th>Unnamed: 0</th>\n",
              "      <th>Unnamed: 0.1</th>\n",
              "      <th>unique_key</th>\n",
              "      <th>created_date</th>\n",
              "      <th>closed_date</th>\n",
              "      <th>agency</th>\n",
              "      <th>agency_name</th>\n",
              "      <th>complaint_type</th>\n",
              "      <th>descriptor</th>\n",
              "      <th>location_type</th>\n",
              "      <th>incident_zip</th>\n",
              "      <th>incident_address</th>\n",
              "      <th>street_name</th>\n",
              "      <th>cross_street_1</th>\n",
              "      <th>cross_street_2</th>\n",
              "      <th>intersection_street_1</th>\n",
              "      <th>intersection_street_2</th>\n",
              "      <th>address_type</th>\n",
              "      <th>city</th>\n",
              "      <th>landmark</th>\n",
              "      <th>facility_type</th>\n",
              "      <th>status</th>\n",
              "      <th>due_date</th>\n",
              "      <th>resolution_description</th>\n",
              "      <th>resolution_action_updated_date</th>\n",
              "      <th>community_board</th>\n",
              "      <th>bbl</th>\n",
              "      <th>borough</th>\n",
              "      <th>x_coordinate_(state_plane)</th>\n",
              "      <th>y_coordinate_(state_plane)</th>\n",
              "      <th>open_data_channel_type</th>\n",
              "      <th>park_facility_name</th>\n",
              "      <th>park_borough</th>\n",
              "      <th>vehicle_type</th>\n",
              "      <th>taxi_company_borough</th>\n",
              "      <th>taxi_pick_up_location</th>\n",
              "      <th>bridge_highway_name</th>\n",
              "      <th>bridge_highway_direction</th>\n",
              "      <th>road_ramp</th>\n",
              "      <th>bridge_highway_segment</th>\n",
              "      <th>latitude</th>\n",
              "      <th>longitude</th>\n",
              "      <th>location</th>\n",
              "      <th>borocd</th>\n",
              "    </tr>\n",
              "  </thead>\n",
              "  <tbody>\n",
              "    <tr>\n",
              "      <th>0</th>\n",
              "      <td>0</td>\n",
              "      <td>0</td>\n",
              "      <td>39888071</td>\n",
              "      <td>08/01/2018 12:00:10 AM</td>\n",
              "      <td>08/01/2018 01:52:46 AM</td>\n",
              "      <td>DHS</td>\n",
              "      <td>Operations Unit - Department of Homeless Services</td>\n",
              "      <td>Homeless Person Assistance</td>\n",
              "      <td>NaN</td>\n",
              "      <td>Other</td>\n",
              "      <td>10029</td>\n",
              "      <td>200 EAST  109 STREET</td>\n",
              "      <td>EAST  109 STREET</td>\n",
              "      <td>3 AVENUE</td>\n",
              "      <td>2 AVENUE</td>\n",
              "      <td>NaN</td>\n",
              "      <td>NaN</td>\n",
              "      <td>ADDRESS</td>\n",
              "      <td>NEW YORK</td>\n",
              "      <td>NaN</td>\n",
              "      <td>NaN</td>\n",
              "      <td>Closed</td>\n",
              "      <td>08/01/2018 01:00:10 AM</td>\n",
              "      <td>The mobile outreach response team offered serv...</td>\n",
              "      <td>08/01/2018 01:52:46 AM</td>\n",
              "      <td>11 MANHATTAN</td>\n",
              "      <td>1.016560e+09</td>\n",
              "      <td>MANHATTAN</td>\n",
              "      <td>1000049.0</td>\n",
              "      <td>228317.0</td>\n",
              "      <td>MOBILE</td>\n",
              "      <td>Unspecified</td>\n",
              "      <td>MANHATTAN</td>\n",
              "      <td>NaN</td>\n",
              "      <td>NaN</td>\n",
              "      <td>NaN</td>\n",
              "      <td>NaN</td>\n",
              "      <td>NaN</td>\n",
              "      <td>NaN</td>\n",
              "      <td>NaN</td>\n",
              "      <td>40.793339</td>\n",
              "      <td>-73.942942</td>\n",
              "      <td>(40.79333937834769, -73.9429417746998)</td>\n",
              "      <td>111.0</td>\n",
              "    </tr>\n",
              "    <tr>\n",
              "      <th>46</th>\n",
              "      <td>46</td>\n",
              "      <td>46</td>\n",
              "      <td>39887175</td>\n",
              "      <td>08/01/2018 12:15:12 AM</td>\n",
              "      <td>08/01/2018 01:29:09 AM</td>\n",
              "      <td>DHS</td>\n",
              "      <td>Operations Unit - Department of Homeless Services</td>\n",
              "      <td>Homeless Person Assistance</td>\n",
              "      <td>NaN</td>\n",
              "      <td>Street/Sidewalk</td>\n",
              "      <td>10016</td>\n",
              "      <td>478 THIRD AVENUE</td>\n",
              "      <td>THIRD AVENUE</td>\n",
              "      <td>EAST 32 STREET</td>\n",
              "      <td>EAST 33 STREET</td>\n",
              "      <td>NaN</td>\n",
              "      <td>NaN</td>\n",
              "      <td>ADDRESS</td>\n",
              "      <td>NEW YORK</td>\n",
              "      <td>NaN</td>\n",
              "      <td>NaN</td>\n",
              "      <td>Closed</td>\n",
              "      <td>08/01/2018 01:15:12 AM</td>\n",
              "      <td>The mobile outreach response team offered serv...</td>\n",
              "      <td>08/01/2018 01:29:09 AM</td>\n",
              "      <td>06 MANHATTAN</td>\n",
              "      <td>1.008880e+09</td>\n",
              "      <td>MANHATTAN</td>\n",
              "      <td>990113.0</td>\n",
              "      <td>210611.0</td>\n",
              "      <td>MOBILE</td>\n",
              "      <td>Unspecified</td>\n",
              "      <td>MANHATTAN</td>\n",
              "      <td>NaN</td>\n",
              "      <td>NaN</td>\n",
              "      <td>NaN</td>\n",
              "      <td>NaN</td>\n",
              "      <td>NaN</td>\n",
              "      <td>NaN</td>\n",
              "      <td>NaN</td>\n",
              "      <td>40.744753</td>\n",
              "      <td>-73.978841</td>\n",
              "      <td>(40.74475319239264, -73.97884116795397)</td>\n",
              "      <td>106.0</td>\n",
              "    </tr>\n",
              "    <tr>\n",
              "      <th>47</th>\n",
              "      <td>47</td>\n",
              "      <td>47</td>\n",
              "      <td>39883411</td>\n",
              "      <td>08/01/2018 12:15:39 AM</td>\n",
              "      <td>08/01/2018 01:33:51 AM</td>\n",
              "      <td>DHS</td>\n",
              "      <td>Operations Unit - Department of Homeless Services</td>\n",
              "      <td>Homeless Person Assistance</td>\n",
              "      <td>NaN</td>\n",
              "      <td>Residential Building/House</td>\n",
              "      <td>10035</td>\n",
              "      <td>445 EAST  120 STREET</td>\n",
              "      <td>EAST  120 STREET</td>\n",
              "      <td>1 AVENUE</td>\n",
              "      <td>PLEASANT AVENUE</td>\n",
              "      <td>NaN</td>\n",
              "      <td>NaN</td>\n",
              "      <td>ADDRESS</td>\n",
              "      <td>NEW YORK</td>\n",
              "      <td>NaN</td>\n",
              "      <td>NaN</td>\n",
              "      <td>Closed</td>\n",
              "      <td>08/01/2018 01:15:39 AM</td>\n",
              "      <td>The mobile outreach response team went to the ...</td>\n",
              "      <td>08/01/2018 01:33:51 AM</td>\n",
              "      <td>11 MANHATTAN</td>\n",
              "      <td>1.018080e+09</td>\n",
              "      <td>MANHATTAN</td>\n",
              "      <td>1003119.0</td>\n",
              "      <td>229980.0</td>\n",
              "      <td>MOBILE</td>\n",
              "      <td>Unspecified</td>\n",
              "      <td>MANHATTAN</td>\n",
              "      <td>NaN</td>\n",
              "      <td>NaN</td>\n",
              "      <td>NaN</td>\n",
              "      <td>NaN</td>\n",
              "      <td>NaN</td>\n",
              "      <td>NaN</td>\n",
              "      <td>NaN</td>\n",
              "      <td>40.797898</td>\n",
              "      <td>-73.931850</td>\n",
              "      <td>(40.797897839118114, -73.93184977463629)</td>\n",
              "      <td>111.0</td>\n",
              "    </tr>\n",
              "    <tr>\n",
              "      <th>145</th>\n",
              "      <td>150</td>\n",
              "      <td>150</td>\n",
              "      <td>39881402</td>\n",
              "      <td>08/01/2018 12:59:43 AM</td>\n",
              "      <td>08/01/2018 02:10:40 AM</td>\n",
              "      <td>DHS</td>\n",
              "      <td>Operations Unit - Department of Homeless Services</td>\n",
              "      <td>Homeless Person Assistance</td>\n",
              "      <td>NaN</td>\n",
              "      <td>Street/Sidewalk</td>\n",
              "      <td>10027</td>\n",
              "      <td>624 WEST  125 STREET</td>\n",
              "      <td>WEST  125 STREET</td>\n",
              "      <td>BROADWAY</td>\n",
              "      <td>ST CLAIR PLACE</td>\n",
              "      <td>NaN</td>\n",
              "      <td>NaN</td>\n",
              "      <td>ADDRESS</td>\n",
              "      <td>NEW YORK</td>\n",
              "      <td>NaN</td>\n",
              "      <td>NaN</td>\n",
              "      <td>Closed</td>\n",
              "      <td>08/01/2018 01:59:43 AM</td>\n",
              "      <td>The mobile outreach response team went to the ...</td>\n",
              "      <td>08/01/2018 02:10:40 AM</td>\n",
              "      <td>09 MANHATTAN</td>\n",
              "      <td>1.019950e+09</td>\n",
              "      <td>MANHATTAN</td>\n",
              "      <td>995623.0</td>\n",
              "      <td>236699.0</td>\n",
              "      <td>MOBILE</td>\n",
              "      <td>Unspecified</td>\n",
              "      <td>MANHATTAN</td>\n",
              "      <td>NaN</td>\n",
              "      <td>NaN</td>\n",
              "      <td>NaN</td>\n",
              "      <td>NaN</td>\n",
              "      <td>NaN</td>\n",
              "      <td>NaN</td>\n",
              "      <td>NaN</td>\n",
              "      <td>40.816352</td>\n",
              "      <td>-73.958912</td>\n",
              "      <td>(40.81635246371125, -73.95891211015879)</td>\n",
              "      <td>109.0</td>\n",
              "    </tr>\n",
              "    <tr>\n",
              "      <th>371</th>\n",
              "      <td>394</td>\n",
              "      <td>394</td>\n",
              "      <td>39888951</td>\n",
              "      <td>08/01/2018 04:10:47 AM</td>\n",
              "      <td>08/01/2018 05:18:59 AM</td>\n",
              "      <td>DHS</td>\n",
              "      <td>Operations Unit - Department of Homeless Services</td>\n",
              "      <td>Homeless Person Assistance</td>\n",
              "      <td>NaN</td>\n",
              "      <td>Street/Sidewalk</td>\n",
              "      <td>10003</td>\n",
              "      <td>115 EAST   14 STREET</td>\n",
              "      <td>EAST   14 STREET</td>\n",
              "      <td>4 AVENUE</td>\n",
              "      <td>IRVING PLACE</td>\n",
              "      <td>NaN</td>\n",
              "      <td>NaN</td>\n",
              "      <td>ADDRESS</td>\n",
              "      <td>NEW YORK</td>\n",
              "      <td>NaN</td>\n",
              "      <td>NaN</td>\n",
              "      <td>Closed</td>\n",
              "      <td>08/01/2018 05:10:47 AM</td>\n",
              "      <td>The individual was found and outreach assistan...</td>\n",
              "      <td>08/01/2018 05:18:59 AM</td>\n",
              "      <td>05 MANHATTAN</td>\n",
              "      <td>1.008708e+09</td>\n",
              "      <td>MANHATTAN</td>\n",
              "      <td>987266.0</td>\n",
              "      <td>206735.0</td>\n",
              "      <td>PHONE</td>\n",
              "      <td>Unspecified</td>\n",
              "      <td>MANHATTAN</td>\n",
              "      <td>NaN</td>\n",
              "      <td>NaN</td>\n",
              "      <td>NaN</td>\n",
              "      <td>NaN</td>\n",
              "      <td>NaN</td>\n",
              "      <td>NaN</td>\n",
              "      <td>NaN</td>\n",
              "      <td>40.734116</td>\n",
              "      <td>-73.989117</td>\n",
              "      <td>(40.73411596377878, -73.98911737171056)</td>\n",
              "      <td>105.0</td>\n",
              "    </tr>\n",
              "  </tbody>\n",
              "</table>\n",
              "</div>"
            ],
            "text/plain": [
              "     Unnamed: 0  Unnamed: 0.1  unique_key            created_date  \\\n",
              "0             0             0    39888071  08/01/2018 12:00:10 AM   \n",
              "46           46            46    39887175  08/01/2018 12:15:12 AM   \n",
              "47           47            47    39883411  08/01/2018 12:15:39 AM   \n",
              "145         150           150    39881402  08/01/2018 12:59:43 AM   \n",
              "371         394           394    39888951  08/01/2018 04:10:47 AM   \n",
              "\n",
              "                closed_date agency  \\\n",
              "0    08/01/2018 01:52:46 AM    DHS   \n",
              "46   08/01/2018 01:29:09 AM    DHS   \n",
              "47   08/01/2018 01:33:51 AM    DHS   \n",
              "145  08/01/2018 02:10:40 AM    DHS   \n",
              "371  08/01/2018 05:18:59 AM    DHS   \n",
              "\n",
              "                                           agency_name  \\\n",
              "0    Operations Unit - Department of Homeless Services   \n",
              "46   Operations Unit - Department of Homeless Services   \n",
              "47   Operations Unit - Department of Homeless Services   \n",
              "145  Operations Unit - Department of Homeless Services   \n",
              "371  Operations Unit - Department of Homeless Services   \n",
              "\n",
              "                 complaint_type descriptor               location_type  \\\n",
              "0    Homeless Person Assistance        NaN                       Other   \n",
              "46   Homeless Person Assistance        NaN             Street/Sidewalk   \n",
              "47   Homeless Person Assistance        NaN  Residential Building/House   \n",
              "145  Homeless Person Assistance        NaN             Street/Sidewalk   \n",
              "371  Homeless Person Assistance        NaN             Street/Sidewalk   \n",
              "\n",
              "    incident_zip      incident_address       street_name  cross_street_1  \\\n",
              "0          10029  200 EAST  109 STREET  EAST  109 STREET        3 AVENUE   \n",
              "46         10016      478 THIRD AVENUE      THIRD AVENUE  EAST 32 STREET   \n",
              "47         10035  445 EAST  120 STREET  EAST  120 STREET        1 AVENUE   \n",
              "145        10027  624 WEST  125 STREET  WEST  125 STREET        BROADWAY   \n",
              "371        10003  115 EAST   14 STREET  EAST   14 STREET        4 AVENUE   \n",
              "\n",
              "      cross_street_2 intersection_street_1 intersection_street_2 address_type  \\\n",
              "0           2 AVENUE                   NaN                   NaN      ADDRESS   \n",
              "46    EAST 33 STREET                   NaN                   NaN      ADDRESS   \n",
              "47   PLEASANT AVENUE                   NaN                   NaN      ADDRESS   \n",
              "145   ST CLAIR PLACE                   NaN                   NaN      ADDRESS   \n",
              "371     IRVING PLACE                   NaN                   NaN      ADDRESS   \n",
              "\n",
              "         city landmark facility_type  status                due_date  \\\n",
              "0    NEW YORK      NaN           NaN  Closed  08/01/2018 01:00:10 AM   \n",
              "46   NEW YORK      NaN           NaN  Closed  08/01/2018 01:15:12 AM   \n",
              "47   NEW YORK      NaN           NaN  Closed  08/01/2018 01:15:39 AM   \n",
              "145  NEW YORK      NaN           NaN  Closed  08/01/2018 01:59:43 AM   \n",
              "371  NEW YORK      NaN           NaN  Closed  08/01/2018 05:10:47 AM   \n",
              "\n",
              "                                resolution_description  \\\n",
              "0    The mobile outreach response team offered serv...   \n",
              "46   The mobile outreach response team offered serv...   \n",
              "47   The mobile outreach response team went to the ...   \n",
              "145  The mobile outreach response team went to the ...   \n",
              "371  The individual was found and outreach assistan...   \n",
              "\n",
              "    resolution_action_updated_date community_board           bbl    borough  \\\n",
              "0           08/01/2018 01:52:46 AM    11 MANHATTAN  1.016560e+09  MANHATTAN   \n",
              "46          08/01/2018 01:29:09 AM    06 MANHATTAN  1.008880e+09  MANHATTAN   \n",
              "47          08/01/2018 01:33:51 AM    11 MANHATTAN  1.018080e+09  MANHATTAN   \n",
              "145         08/01/2018 02:10:40 AM    09 MANHATTAN  1.019950e+09  MANHATTAN   \n",
              "371         08/01/2018 05:18:59 AM    05 MANHATTAN  1.008708e+09  MANHATTAN   \n",
              "\n",
              "     x_coordinate_(state_plane)  y_coordinate_(state_plane)  \\\n",
              "0                     1000049.0                    228317.0   \n",
              "46                     990113.0                    210611.0   \n",
              "47                    1003119.0                    229980.0   \n",
              "145                    995623.0                    236699.0   \n",
              "371                    987266.0                    206735.0   \n",
              "\n",
              "    open_data_channel_type park_facility_name park_borough vehicle_type  \\\n",
              "0                   MOBILE        Unspecified    MANHATTAN          NaN   \n",
              "46                  MOBILE        Unspecified    MANHATTAN          NaN   \n",
              "47                  MOBILE        Unspecified    MANHATTAN          NaN   \n",
              "145                 MOBILE        Unspecified    MANHATTAN          NaN   \n",
              "371                  PHONE        Unspecified    MANHATTAN          NaN   \n",
              "\n",
              "    taxi_company_borough taxi_pick_up_location bridge_highway_name  \\\n",
              "0                    NaN                   NaN                 NaN   \n",
              "46                   NaN                   NaN                 NaN   \n",
              "47                   NaN                   NaN                 NaN   \n",
              "145                  NaN                   NaN                 NaN   \n",
              "371                  NaN                   NaN                 NaN   \n",
              "\n",
              "    bridge_highway_direction road_ramp bridge_highway_segment   latitude  \\\n",
              "0                        NaN       NaN                    NaN  40.793339   \n",
              "46                       NaN       NaN                    NaN  40.744753   \n",
              "47                       NaN       NaN                    NaN  40.797898   \n",
              "145                      NaN       NaN                    NaN  40.816352   \n",
              "371                      NaN       NaN                    NaN  40.734116   \n",
              "\n",
              "     longitude                                  location  borocd  \n",
              "0   -73.942942    (40.79333937834769, -73.9429417746998)   111.0  \n",
              "46  -73.978841   (40.74475319239264, -73.97884116795397)   106.0  \n",
              "47  -73.931850  (40.797897839118114, -73.93184977463629)   111.0  \n",
              "145 -73.958912   (40.81635246371125, -73.95891211015879)   109.0  \n",
              "371 -73.989117   (40.73411596377878, -73.98911737171056)   105.0  "
            ]
          },
          "metadata": {
            "tags": []
          },
          "execution_count": 19
        }
      ]
    },
    {
      "cell_type": "code",
      "metadata": {
        "id": "21ES8KgKgYFA",
        "colab_type": "code",
        "colab": {}
      },
      "source": [
        "#Step 5. Group the 311 subset by 'borocd' to get the count of 'Homeless Person Assistance' requests per community district"
      ],
      "execution_count": 0,
      "outputs": []
    },
    {
      "cell_type": "code",
      "metadata": {
        "id": "lrtAU_Myf16F",
        "colab_type": "code",
        "colab": {}
      },
      "source": [
        "count_homeless = homeless.groupby('borocd').size().reset_index(name='count_of_311_requests')"
      ],
      "execution_count": 0,
      "outputs": []
    },
    {
      "cell_type": "code",
      "metadata": {
        "id": "S-iR43JegLnj",
        "colab_type": "code",
        "outputId": "aecd829e-3232-4943-f5be-8d5e7ac22960",
        "colab": {
          "base_uri": "https://localhost:8080/",
          "height": 204
        }
      },
      "source": [
        "count_homeless.head()"
      ],
      "execution_count": 22,
      "outputs": [
        {
          "output_type": "execute_result",
          "data": {
            "text/html": [
              "<div>\n",
              "<style scoped>\n",
              "    .dataframe tbody tr th:only-of-type {\n",
              "        vertical-align: middle;\n",
              "    }\n",
              "\n",
              "    .dataframe tbody tr th {\n",
              "        vertical-align: top;\n",
              "    }\n",
              "\n",
              "    .dataframe thead th {\n",
              "        text-align: right;\n",
              "    }\n",
              "</style>\n",
              "<table border=\"1\" class=\"dataframe\">\n",
              "  <thead>\n",
              "    <tr style=\"text-align: right;\">\n",
              "      <th></th>\n",
              "      <th>borocd</th>\n",
              "      <th>count_of_311_requests</th>\n",
              "    </tr>\n",
              "  </thead>\n",
              "  <tbody>\n",
              "    <tr>\n",
              "      <th>0</th>\n",
              "      <td>101.0</td>\n",
              "      <td>758</td>\n",
              "    </tr>\n",
              "    <tr>\n",
              "      <th>1</th>\n",
              "      <td>102.0</td>\n",
              "      <td>965</td>\n",
              "    </tr>\n",
              "    <tr>\n",
              "      <th>2</th>\n",
              "      <td>103.0</td>\n",
              "      <td>520</td>\n",
              "    </tr>\n",
              "    <tr>\n",
              "      <th>3</th>\n",
              "      <td>104.0</td>\n",
              "      <td>1055</td>\n",
              "    </tr>\n",
              "    <tr>\n",
              "      <th>4</th>\n",
              "      <td>105.0</td>\n",
              "      <td>3020</td>\n",
              "    </tr>\n",
              "  </tbody>\n",
              "</table>\n",
              "</div>"
            ],
            "text/plain": [
              "   borocd  count_of_311_requests\n",
              "0   101.0                    758\n",
              "1   102.0                    965\n",
              "2   103.0                    520\n",
              "3   104.0                   1055\n",
              "4   105.0                   3020"
            ]
          },
          "metadata": {
            "tags": []
          },
          "execution_count": 22
        }
      ]
    },
    {
      "cell_type": "code",
      "metadata": {
        "id": "_JMyj3FKhsHa",
        "colab_type": "code",
        "colab": {}
      },
      "source": [
        "cd_data = pd.merge(left=count_homeless, right=hsdate, left_on='borocd', right_on='community_district')"
      ],
      "execution_count": 0,
      "outputs": []
    },
    {
      "cell_type": "code",
      "metadata": {
        "id": "yPubmretKPAs",
        "colab_type": "code",
        "colab": {}
      },
      "source": [
        "cd_data = cd_data.drop_duplicates()"
      ],
      "execution_count": 0,
      "outputs": []
    },
    {
      "cell_type": "code",
      "metadata": {
        "id": "W7S96gU7iPBn",
        "colab_type": "code",
        "outputId": "d5ee83fb-84e6-4cf3-aa48-424783e689a5",
        "colab": {
          "base_uri": "https://localhost:8080/",
          "height": 224
        }
      },
      "source": [
        "cd_data.head()"
      ],
      "execution_count": 25,
      "outputs": [
        {
          "output_type": "execute_result",
          "data": {
            "text/html": [
              "<div>\n",
              "<style scoped>\n",
              "    .dataframe tbody tr th:only-of-type {\n",
              "        vertical-align: middle;\n",
              "    }\n",
              "\n",
              "    .dataframe tbody tr th {\n",
              "        vertical-align: top;\n",
              "    }\n",
              "\n",
              "    .dataframe thead th {\n",
              "        text-align: right;\n",
              "    }\n",
              "</style>\n",
              "<table border=\"1\" class=\"dataframe\">\n",
              "  <thead>\n",
              "    <tr style=\"text-align: right;\">\n",
              "      <th></th>\n",
              "      <th>borocd</th>\n",
              "      <th>count_of_311_requests</th>\n",
              "      <th>report_date</th>\n",
              "      <th>boro</th>\n",
              "      <th>community_district</th>\n",
              "      <th>adult_fam_comm_hotel</th>\n",
              "      <th>adult_family_shelter</th>\n",
              "      <th>adult_shelter</th>\n",
              "      <th>adult_shelter_comm_hotel</th>\n",
              "      <th>fwc_cluster</th>\n",
              "      <th>fwc_comm_hotel</th>\n",
              "      <th>fwc_shelter</th>\n",
              "      <th>count1</th>\n",
              "    </tr>\n",
              "  </thead>\n",
              "  <tbody>\n",
              "    <tr>\n",
              "      <th>0</th>\n",
              "      <td>101.0</td>\n",
              "      <td>758</td>\n",
              "      <td>07/31/2018</td>\n",
              "      <td>Manhattan</td>\n",
              "      <td>101</td>\n",
              "      <td>0.0</td>\n",
              "      <td>0.0</td>\n",
              "      <td>0.0</td>\n",
              "      <td>0.0</td>\n",
              "      <td>0.0</td>\n",
              "      <td>2.0</td>\n",
              "      <td>0.0</td>\n",
              "      <td>2.0</td>\n",
              "    </tr>\n",
              "    <tr>\n",
              "      <th>1</th>\n",
              "      <td>101.0</td>\n",
              "      <td>758</td>\n",
              "      <td>08/31/2018</td>\n",
              "      <td>Manhattan</td>\n",
              "      <td>101</td>\n",
              "      <td>0.0</td>\n",
              "      <td>0.0</td>\n",
              "      <td>0.0</td>\n",
              "      <td>0.0</td>\n",
              "      <td>0.0</td>\n",
              "      <td>2.0</td>\n",
              "      <td>0.0</td>\n",
              "      <td>2.0</td>\n",
              "    </tr>\n",
              "    <tr>\n",
              "      <th>2</th>\n",
              "      <td>101.0</td>\n",
              "      <td>758</td>\n",
              "      <td>09/30/2018</td>\n",
              "      <td>Manhattan</td>\n",
              "      <td>101</td>\n",
              "      <td>0.0</td>\n",
              "      <td>0.0</td>\n",
              "      <td>7.0</td>\n",
              "      <td>0.0</td>\n",
              "      <td>0.0</td>\n",
              "      <td>2.0</td>\n",
              "      <td>0.0</td>\n",
              "      <td>9.0</td>\n",
              "    </tr>\n",
              "    <tr>\n",
              "      <th>3</th>\n",
              "      <td>101.0</td>\n",
              "      <td>758</td>\n",
              "      <td>10/31/2018</td>\n",
              "      <td>Manhattan</td>\n",
              "      <td>101</td>\n",
              "      <td>0.0</td>\n",
              "      <td>0.0</td>\n",
              "      <td>0.0</td>\n",
              "      <td>0.0</td>\n",
              "      <td>0.0</td>\n",
              "      <td>2.0</td>\n",
              "      <td>0.0</td>\n",
              "      <td>2.0</td>\n",
              "    </tr>\n",
              "    <tr>\n",
              "      <th>4</th>\n",
              "      <td>101.0</td>\n",
              "      <td>758</td>\n",
              "      <td>11/30/2018</td>\n",
              "      <td>Manhattan</td>\n",
              "      <td>101</td>\n",
              "      <td>0.0</td>\n",
              "      <td>0.0</td>\n",
              "      <td>0.0</td>\n",
              "      <td>0.0</td>\n",
              "      <td>0.0</td>\n",
              "      <td>2.0</td>\n",
              "      <td>0.0</td>\n",
              "      <td>2.0</td>\n",
              "    </tr>\n",
              "  </tbody>\n",
              "</table>\n",
              "</div>"
            ],
            "text/plain": [
              "   borocd  count_of_311_requests report_date       boro  community_district  \\\n",
              "0   101.0                    758  07/31/2018  Manhattan                 101   \n",
              "1   101.0                    758  08/31/2018  Manhattan                 101   \n",
              "2   101.0                    758  09/30/2018  Manhattan                 101   \n",
              "3   101.0                    758  10/31/2018  Manhattan                 101   \n",
              "4   101.0                    758  11/30/2018  Manhattan                 101   \n",
              "\n",
              "   adult_fam_comm_hotel  adult_family_shelter  adult_shelter  \\\n",
              "0                   0.0                   0.0            0.0   \n",
              "1                   0.0                   0.0            0.0   \n",
              "2                   0.0                   0.0            7.0   \n",
              "3                   0.0                   0.0            0.0   \n",
              "4                   0.0                   0.0            0.0   \n",
              "\n",
              "   adult_shelter_comm_hotel  fwc_cluster  fwc_comm_hotel  fwc_shelter  count1  \n",
              "0                       0.0          0.0             2.0          0.0     2.0  \n",
              "1                       0.0          0.0             2.0          0.0     2.0  \n",
              "2                       0.0          0.0             2.0          0.0     9.0  \n",
              "3                       0.0          0.0             2.0          0.0     2.0  \n",
              "4                       0.0          0.0             2.0          0.0     2.0  "
            ]
          },
          "metadata": {
            "tags": []
          },
          "execution_count": 25
        }
      ]
    },
    {
      "cell_type": "code",
      "metadata": {
        "id": "0sGOkn2AkGF0",
        "colab_type": "code",
        "colab": {}
      },
      "source": [
        "#Step 7. Produce a scatter plot of the data using the matplotlib package. What is your initial impression on whether there is a correlation between number of shelters and count of 311 homeless service requests?"
      ],
      "execution_count": 0,
      "outputs": []
    },
    {
      "cell_type": "code",
      "metadata": {
        "id": "PvNeq-kYkATI",
        "colab_type": "code",
        "outputId": "204658e2-8982-4710-9db1-9dae0d613fbb",
        "colab": {
          "base_uri": "https://localhost:8080/",
          "height": 404
        }
      },
      "source": [
        "plt.figure(figsize=(15, 6))\n",
        "\n",
        "plt.scatter(\n",
        "    np.array(cd_data['count1']), \n",
        "    np.array(cd_data.count_of_311_requests), \n",
        "    s=50, \n",
        "    c='#3d03fc', \n",
        "    edgecolors='black', \n",
        "    alpha=0.5) \n",
        "\n",
        "plt.title('Number of Shelters vs. Number of Complaints')\n",
        "plt.xlabel('Number of Shelters')\n",
        "plt.ylabel('Number of Complaints')\n",
        "\n",
        "plt.show()\n"
      ],
      "execution_count": 27,
      "outputs": [
        {
          "output_type": "display_data",
          "data": {
            "image/png": "[encoded data removed]",
            "text/plain": [
              "<Figure size 1080x432 with 1 Axes>"
            ]
          },
          "metadata": {
            "tags": []
          }
        }
      ]
    },
    {
      "cell_type": "code",
      "metadata": {
        "id": "RgyiMgphsxoW",
        "colab_type": "code",
        "colab": {}
      },
      "source": [
        "#The highest number of complaints actually exists in areas with 10 or fewer shelters. This may show that there are a smaller number of shelters that have a disproportionate number of incidents or a disproporionate number of sensitive neighbors. "
      ],
      "execution_count": 0,
      "outputs": []
    },
    {
      "cell_type": "code",
      "metadata": {
        "id": "RIfZx7g6mBqG",
        "colab_type": "code",
        "colab": {}
      },
      "source": [
        "#Step 8. Use np.corrcoef(x, y) to identify the correlation coefficient between count of total shelter buildings and count of homeless requests per community district."
      ],
      "execution_count": 0,
      "outputs": []
    },
    {
      "cell_type": "code",
      "metadata": {
        "id": "53dMYyg2k4od",
        "colab_type": "code",
        "outputId": "394a8610-f707-417b-c45d-644b3825622d",
        "colab": {
          "base_uri": "https://localhost:8080/",
          "height": 51
        }
      },
      "source": [
        "x = np.array(cd_data.count1)\n",
        "y = np.array(cd_data.count_of_311_requests)\n",
        "\n",
        "np.corrcoef(x, y)"
      ],
      "execution_count": 40,
      "outputs": [
        {
          "output_type": "execute_result",
          "data": {
            "text/plain": [
              "array([[ 1.        , -0.01125285],\n",
              "       [-0.01125285,  1.        ]])"
            ]
          },
          "metadata": {
            "tags": []
          },
          "execution_count": 40
        }
      ]
    },
    {
      "cell_type": "code",
      "metadata": {
        "id": "7bTPZqCxtP-e",
        "colab_type": "code",
        "colab": {}
      },
      "source": [
        "#Step 9. Perform a linear regression with count of total shelter buildings as the independent variable and count of homeless requests as the dependent variable"
      ],
      "execution_count": 0,
      "outputs": []
    },
    {
      "cell_type": "code",
      "metadata": {
        "id": "1TR3S6J-7F6S",
        "colab_type": "code",
        "outputId": "e4008104-4573-40fa-db95-9c15c38a5972",
        "colab": {
          "base_uri": "https://localhost:8080/",
          "height": 561
        }
      },
      "source": [
        "y = np.array(cd_data.count_of_311_requests)\n",
        "\n",
        "x = np.array(cd_data['count1'])\n",
        "x = sm.add_constant(x)\n",
        "\n",
        "print(x)\n",
        "\n",
        "model = sm.OLS(y, x).fit()\n",
        "\n",
        "print(model.summary())"
      ],
      "execution_count": 41,
      "outputs": [
        {
          "output_type": "stream",
          "text": [
            "[[1. 2.]\n",
            " [1. 2.]\n",
            " [1. 9.]\n",
            " ...\n",
            " [1. 1.]\n",
            " [1. 1.]\n",
            " [1. 1.]]\n",
            "                            OLS Regression Results                            \n",
            "==============================================================================\n",
            "Dep. Variable:                      y   R-squared:                       0.000\n",
            "Model:                            OLS   Adj. R-squared:                 -0.001\n",
            "Method:                 Least Squares   F-statistic:                   0.09042\n",
            "Date:                Wed, 04 Dec 2019   Prob (F-statistic):              0.764\n",
            "Time:                        01:28:58   Log-Likelihood:                -5440.7\n",
            "No. Observations:                 716   AIC:                         1.089e+04\n",
            "Df Residuals:                     714   BIC:                         1.089e+04\n",
            "Df Model:                           1                                         \n",
            "Covariance Type:            nonrobust                                         \n",
            "==============================================================================\n",
            "                 coef    std err          t      P>|t|      [0.025      0.975]\n",
            "------------------------------------------------------------------------------\n",
            "const        297.1628     25.979     11.438      0.000     246.158     348.168\n",
            "x1            -0.6419      2.135     -0.301      0.764      -4.833       3.549\n",
            "==============================================================================\n",
            "Omnibus:                      626.425   Durbin-Watson:                   0.070\n",
            "Prob(Omnibus):                  0.000   Jarque-Bera (JB):            12172.531\n",
            "Skew:                           4.069   Prob(JB):                         0.00\n",
            "Kurtosis:                      21.487   Cond. No.                         17.6\n",
            "==============================================================================\n",
            "\n",
            "Warnings:\n",
            "[1] Standard Errors assume that the covariance matrix of the errors is correctly specified.\n"
          ],
          "name": "stdout"
        }
      ]
    },
    {
      "cell_type": "code",
      "metadata": {
        "id": "ykfGSECaAVbV",
        "colab_type": "code",
        "colab": {}
      },
      "source": [
        "#Step 10. Produce a scatter plot of the data with the line of best fit from your linear regression using the matplotlib package"
      ],
      "execution_count": 0,
      "outputs": []
    },
    {
      "cell_type": "code",
      "metadata": {
        "id": "PrfRSrQI1Sgk",
        "colab_type": "code",
        "colab": {}
      },
      "source": [
        "p = model.params\n",
        "\n",
        "r2 = model.rsquared"
      ],
      "execution_count": 0,
      "outputs": []
    },
    {
      "cell_type": "code",
      "metadata": {
        "id": "KA4SmYYue4QS",
        "colab_type": "code",
        "colab": {
          "base_uri": "https://localhost:8080/",
          "height": 34
        },
        "outputId": "84b6c194-d0c1-4e47-9c2a-d31f47e64916"
      },
      "source": [
        "label = 'y = ' + str(round(p[1],2)) + 'x + ' + str(round(p[0],2)) + '; R2 = ' + str(round(r2,3))\n",
        "print(label)"
      ],
      "execution_count": 43,
      "outputs": [
        {
          "output_type": "stream",
          "text": [
            "y = -0.64x + 297.16; R2 = 0.0\n"
          ],
          "name": "stdout"
        }
      ]
    },
    {
      "cell_type": "code",
      "metadata": {
        "id": "aDCCFR4O_Jpg",
        "colab_type": "code",
        "outputId": "79c8c471-69e0-4814-ae92-ed20970baa90",
        "colab": {
          "base_uri": "https://localhost:8080/",
          "height": 404
        }
      },
      "source": [
        "\n",
        "\n",
        "x_dummy = np.array(cd_data.count1)\n",
        "\n",
        "\n",
        "plt.figure(figsize=(15, 6))\n",
        "\n",
        "plt.scatter(\n",
        "    np.array(cd_data['count1']), \n",
        "    np.array(cd_data['count_of_311_requests']), \n",
        "    s=50, \n",
        "    c='#3d03fc', \n",
        "    edgecolors='black', \n",
        "    alpha=0.5) \n",
        "\n",
        "plt.plot(\n",
        "    x_dummy, \n",
        "    p[0] + p[1] * x_dummy,\n",
        "    c='#00d138', \n",
        "    label=label)\n",
        "\n",
        "plt.title('Number of Shelters vs. Number of Complaints')\n",
        "plt.xlabel('Number of Shelters')\n",
        "plt.ylabel('Number of Complaints')\n",
        "plt.legend()\n",
        "\n",
        "plt.show()"
      ],
      "execution_count": 44,
      "outputs": [
        {
          "output_type": "display_data",
          "data": {
            "image/png": "[encoded data removed]",
            "text/plain": [
              "<Figure size 1080x432 with 1 Axes>"
            ]
          },
          "metadata": {
            "tags": []
          }
        }
      ]
    },
    {
      "cell_type": "code",
      "metadata": {
        "id": "Aty8bfF8kJyB",
        "colab_type": "code",
        "colab": {}
      },
      "source": [
        "import seaborn as sns\n"
      ],
      "execution_count": 0,
      "outputs": []
    },
    {
      "cell_type": "code",
      "metadata": {
        "id": "wHNOK39LkKiA",
        "colab_type": "code",
        "outputId": "2a7a1c4e-697e-4946-d767-3b856fc9a4fa",
        "colab": {
          "base_uri": "https://localhost:8080/",
          "height": 296
        }
      },
      "source": [
        "sns.regplot(\n",
        "    x=cd_data['count1'],\n",
        "    y=cd_data['count_of_311_requests'])"
      ],
      "execution_count": 46,
      "outputs": [
        {
          "output_type": "execute_result",
          "data": {
            "text/plain": [
              "<matplotlib.axes._subplots.AxesSubplot at 0x7f1e8be1f550>"
            ]
          },
          "metadata": {
            "tags": []
          },
          "execution_count": 46
        },
        {
          "output_type": "display_data",
          "data": {
            "image/png": "[encoded data removed]",
            "text/plain": [
              "<Figure size 432x288 with 1 Axes>"
            ]
          },
          "metadata": {
            "tags": []
          }
        }
      ]
    },
    {
      "cell_type": "code",
      "metadata": {
        "id": "2fgVEojhCEQr",
        "colab_type": "code",
        "colab": {}
      },
      "source": [
        "#Step 11: Write a sentence or two explaining the results of your analysis. What do the numbers and chart tell you about the relationship between concentration of homeless shelters vs. frequency of 311 requests related to homelessness?"
      ],
      "execution_count": 0,
      "outputs": []
    },
    {
      "cell_type": "code",
      "metadata": {
        "id": "2Oh1Db1ICKuo",
        "colab_type": "code",
        "colab": {}
      },
      "source": [
        "#There does not seem to be strong evidence of a relationship between concentration of shelters and the number of complaints based on a regression line that is essentially flat and an R2 value that is 0. \n",
        "#More analysis is needed to understand why some areas with the lowest number of shelters has the highest number of complaints. It could be that there are areas with few shelters but that attract large numbers of homeless individuals. "
      ],
      "execution_count": 0,
      "outputs": []
    }
  ]
}